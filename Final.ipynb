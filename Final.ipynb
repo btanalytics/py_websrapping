{
 "cells": [
  {
   "cell_type": "markdown",
   "metadata": {},
   "source": [
    "## Flight data record scrapping "
   ]
  },
  {
   "cell_type": "code",
   "execution_count": 4,
   "metadata": {
    "collapsed": true
   },
   "outputs": [],
   "source": [
    "# Imports\n",
    "from selenium import webdriver\n",
    "from selenium.webdriver.support import expected_conditions as EC\n",
    "from selenium.webdriver.support.ui import WebDriverWait\n",
    "from selenium.common.exceptions import NoSuchElementException\n",
    "from selenium.common.exceptions import TimeoutException\n",
    "from selenium.webdriver.common.by import By\n",
    "\n",
    "import pandas as pd\n",
    "import string\n",
    "import csv"
   ]
  },
  {
   "cell_type": "code",
   "execution_count": 2,
   "metadata": {
    "collapsed": true
   },
   "outputs": [],
   "source": [
    "# Initializing the browser\n",
    "path_to_chromedriver = '/home/bt/Documents/Workplace/going_headless/chromedriver/chromedriver'\n",
    "browser = webdriver.Chrome(executable_path = path_to_chromedriver)"
   ]
  },
  {
   "cell_type": "code",
   "execution_count": 3,
   "metadata": {},
   "outputs": [
    {
     "ename": "TimeoutException",
     "evalue": "Message: timeout\n  (Session info: chrome=62.0.3202.75)\n  (Driver info: chromedriver=2.35.528139 (47ead77cb35ad2a9a83248b292151462a66cd881),platform=Linux 4.10.0-19-generic x86_64)\n",
     "output_type": "error",
     "traceback": [
      "\u001b[0;31m---------------------------------------------------------------------------\u001b[0m",
      "\u001b[0;31mTimeoutException\u001b[0m                          Traceback (most recent call last)",
      "\u001b[0;32m<ipython-input-3-423ede6c32a6>\u001b[0m in \u001b[0;36m<module>\u001b[0;34m()\u001b[0m\n\u001b[1;32m      1\u001b[0m \u001b[0;31m## Get the website\u001b[0m\u001b[0;34m\u001b[0m\u001b[0;34m\u001b[0m\u001b[0m\n\u001b[1;32m      2\u001b[0m \u001b[0murl\u001b[0m \u001b[0;34m=\u001b[0m \u001b[0;34m'https://www.epower.amadeus.com/biscord/#AdtCount=1&CabinClass=&Culture=en-US&DepartureDate=1/17/2018&From=LOS&Method=Search&Page=Result&ProviderList=OnlyAmadeus&ReturnDate=1/30/2018&To=LON'\u001b[0m\u001b[0;34m\u001b[0m\u001b[0m\n\u001b[0;32m----> 3\u001b[0;31m \u001b[0mbrowser\u001b[0m\u001b[0;34m.\u001b[0m\u001b[0mget\u001b[0m\u001b[0;34m(\u001b[0m\u001b[0murl\u001b[0m\u001b[0;34m)\u001b[0m\u001b[0;34m\u001b[0m\u001b[0m\n\u001b[0m",
      "\u001b[0;32m/home/bt/anaconda3/lib/python3.6/site-packages/selenium/webdriver/remote/webdriver.py\u001b[0m in \u001b[0;36mget\u001b[0;34m(self, url)\u001b[0m\n\u001b[1;32m    322\u001b[0m         \u001b[0mLoads\u001b[0m \u001b[0ma\u001b[0m \u001b[0mweb\u001b[0m \u001b[0mpage\u001b[0m \u001b[0;32min\u001b[0m \u001b[0mthe\u001b[0m \u001b[0mcurrent\u001b[0m \u001b[0mbrowser\u001b[0m \u001b[0msession\u001b[0m\u001b[0;34m.\u001b[0m\u001b[0;34m\u001b[0m\u001b[0m\n\u001b[1;32m    323\u001b[0m         \"\"\"\n\u001b[0;32m--> 324\u001b[0;31m         \u001b[0mself\u001b[0m\u001b[0;34m.\u001b[0m\u001b[0mexecute\u001b[0m\u001b[0;34m(\u001b[0m\u001b[0mCommand\u001b[0m\u001b[0;34m.\u001b[0m\u001b[0mGET\u001b[0m\u001b[0;34m,\u001b[0m \u001b[0;34m{\u001b[0m\u001b[0;34m'url'\u001b[0m\u001b[0;34m:\u001b[0m \u001b[0murl\u001b[0m\u001b[0;34m}\u001b[0m\u001b[0;34m)\u001b[0m\u001b[0;34m\u001b[0m\u001b[0m\n\u001b[0m\u001b[1;32m    325\u001b[0m \u001b[0;34m\u001b[0m\u001b[0m\n\u001b[1;32m    326\u001b[0m     \u001b[0;34m@\u001b[0m\u001b[0mproperty\u001b[0m\u001b[0;34m\u001b[0m\u001b[0m\n",
      "\u001b[0;32m/home/bt/anaconda3/lib/python3.6/site-packages/selenium/webdriver/remote/webdriver.py\u001b[0m in \u001b[0;36mexecute\u001b[0;34m(self, driver_command, params)\u001b[0m\n\u001b[1;32m    310\u001b[0m         \u001b[0mresponse\u001b[0m \u001b[0;34m=\u001b[0m \u001b[0mself\u001b[0m\u001b[0;34m.\u001b[0m\u001b[0mcommand_executor\u001b[0m\u001b[0;34m.\u001b[0m\u001b[0mexecute\u001b[0m\u001b[0;34m(\u001b[0m\u001b[0mdriver_command\u001b[0m\u001b[0;34m,\u001b[0m \u001b[0mparams\u001b[0m\u001b[0;34m)\u001b[0m\u001b[0;34m\u001b[0m\u001b[0m\n\u001b[1;32m    311\u001b[0m         \u001b[0;32mif\u001b[0m \u001b[0mresponse\u001b[0m\u001b[0;34m:\u001b[0m\u001b[0;34m\u001b[0m\u001b[0m\n\u001b[0;32m--> 312\u001b[0;31m             \u001b[0mself\u001b[0m\u001b[0;34m.\u001b[0m\u001b[0merror_handler\u001b[0m\u001b[0;34m.\u001b[0m\u001b[0mcheck_response\u001b[0m\u001b[0;34m(\u001b[0m\u001b[0mresponse\u001b[0m\u001b[0;34m)\u001b[0m\u001b[0;34m\u001b[0m\u001b[0m\n\u001b[0m\u001b[1;32m    313\u001b[0m             response['value'] = self._unwrap_value(\n\u001b[1;32m    314\u001b[0m                 response.get('value', None))\n",
      "\u001b[0;32m/home/bt/anaconda3/lib/python3.6/site-packages/selenium/webdriver/remote/errorhandler.py\u001b[0m in \u001b[0;36mcheck_response\u001b[0;34m(self, response)\u001b[0m\n\u001b[1;32m    235\u001b[0m         \u001b[0;32melif\u001b[0m \u001b[0mexception_class\u001b[0m \u001b[0;34m==\u001b[0m \u001b[0mUnexpectedAlertPresentException\u001b[0m \u001b[0;32mand\u001b[0m \u001b[0;34m'alert'\u001b[0m \u001b[0;32min\u001b[0m \u001b[0mvalue\u001b[0m\u001b[0;34m:\u001b[0m\u001b[0;34m\u001b[0m\u001b[0m\n\u001b[1;32m    236\u001b[0m             \u001b[0;32mraise\u001b[0m \u001b[0mexception_class\u001b[0m\u001b[0;34m(\u001b[0m\u001b[0mmessage\u001b[0m\u001b[0;34m,\u001b[0m \u001b[0mscreen\u001b[0m\u001b[0;34m,\u001b[0m \u001b[0mstacktrace\u001b[0m\u001b[0;34m,\u001b[0m \u001b[0mvalue\u001b[0m\u001b[0;34m[\u001b[0m\u001b[0;34m'alert'\u001b[0m\u001b[0;34m]\u001b[0m\u001b[0;34m.\u001b[0m\u001b[0mget\u001b[0m\u001b[0;34m(\u001b[0m\u001b[0;34m'text'\u001b[0m\u001b[0;34m)\u001b[0m\u001b[0;34m)\u001b[0m\u001b[0;34m\u001b[0m\u001b[0m\n\u001b[0;32m--> 237\u001b[0;31m         \u001b[0;32mraise\u001b[0m \u001b[0mexception_class\u001b[0m\u001b[0;34m(\u001b[0m\u001b[0mmessage\u001b[0m\u001b[0;34m,\u001b[0m \u001b[0mscreen\u001b[0m\u001b[0;34m,\u001b[0m \u001b[0mstacktrace\u001b[0m\u001b[0;34m)\u001b[0m\u001b[0;34m\u001b[0m\u001b[0m\n\u001b[0m\u001b[1;32m    238\u001b[0m \u001b[0;34m\u001b[0m\u001b[0m\n\u001b[1;32m    239\u001b[0m     \u001b[0;32mdef\u001b[0m \u001b[0m_value_or_default\u001b[0m\u001b[0;34m(\u001b[0m\u001b[0mself\u001b[0m\u001b[0;34m,\u001b[0m \u001b[0mobj\u001b[0m\u001b[0;34m,\u001b[0m \u001b[0mkey\u001b[0m\u001b[0;34m,\u001b[0m \u001b[0mdefault\u001b[0m\u001b[0;34m)\u001b[0m\u001b[0;34m:\u001b[0m\u001b[0;34m\u001b[0m\u001b[0m\n",
      "\u001b[0;31mTimeoutException\u001b[0m: Message: timeout\n  (Session info: chrome=62.0.3202.75)\n  (Driver info: chromedriver=2.35.528139 (47ead77cb35ad2a9a83248b292151462a66cd881),platform=Linux 4.10.0-19-generic x86_64)\n"
     ]
    }
   ],
   "source": [
    "## Get the website \n",
    "url = 'https://www.epower.amadeus.com/biscord/#AdtCount=1&CabinClass=&Culture=en-US&DepartureDate=1/17/2018&From=LOS&Method=Search&Page=Result&ProviderList=OnlyAmadeus&ReturnDate=1/30/2018&To=LON'\n",
    "browser.get(url)"
   ]
  },
  {
   "cell_type": "code",
   "execution_count": 7,
   "metadata": {
    "collapsed": true
   },
   "outputs": [],
   "source": [
    "# waiting things\n",
    "delay = 7 # seconds\n",
    "xpaths = '//*[@id=\"Obj_Result\"]/div/div[3]/div'\n",
    "try:\n",
    "    element_present = EC.presence_of_element_located((By.XPATH, xpaths))\n",
    "    WebDriverWait(browser, timeout).until(element_present)\n",
    "    print \"Page is ready!\"\n",
    "except TimeoutException:\n",
    "    print \"Loading took too much time!\""
   ]
  },
  {
   "cell_type": "markdown",
   "metadata": {},
   "source": [
    "### Functions"
   ]
  },
  {
   "cell_type": "code",
   "execution_count": 8,
   "metadata": {
    "collapsed": true
   },
   "outputs": [],
   "source": [
    "# 1. Check if element exist\n",
    "def elements_exist_by_xpath(xpath):\n",
    "    try:\n",
    "        elm = browser.find_elements_by_xpath(xpath)\n",
    "        #elm.click()\n",
    "    except NoSuchElementException:\n",
    "        return False\n",
    "    return True\n",
    "\n",
    "# 2. Check if xpath element is visibe/availiabe\n",
    "def is_available(xpath):\n",
    "    try:\n",
    "        element = wait.until(EC.visibility_of_element_located,xpath)\n",
    "    except:\n",
    "        return False\n",
    "    return True"
   ]
  },
  {
   "cell_type": "code",
   "execution_count": 10,
   "metadata": {
    "collapsed": true
   },
   "outputs": [],
   "source": [
    "# Results panal\n",
    "xpaths = '//*[@id=\"Obj_Result\"]/div/div[3]/div'"
   ]
  },
  {
   "cell_type": "code",
   "execution_count": 12,
   "metadata": {},
   "outputs": [
    {
     "name": "stdout",
     "output_type": "stream",
     "text": [
      "...acquiring reseult panal element\n",
      "...11 Result Element acquired\n"
     ]
    }
   ],
   "source": [
    "# Robust Wrapping\n",
    "# Check if the path is available\n",
    "if is_available(xpaths):\n",
    "    # check elements existence\n",
    "    if elements_exist_by_xpath(xpaths):\n",
    "        #print(\"...Results Present\")\n",
    "        # Get all result element\n",
    "        print('...acquiring reseult panal element')\n",
    "        all_elem = browser.find_elements_by_xpath(xpaths)\n",
    "        # Check if the list isn't empty\n",
    "        if len(all_elem) > 0:\n",
    "            print(\"...{} Result Element acquired\".format(len(all_elem)))\n",
    "        else:\n",
    "            print(\"...{} Result Element acquired\".format(len(all_elem)))\n",
    "else:\n",
    "    print('No Result Panel')"
   ]
  },
  {
   "cell_type": "code",
   "execution_count": null,
   "metadata": {
    "collapsed": true
   },
   "outputs": [],
   "source": []
  },
  {
   "cell_type": "markdown",
   "metadata": {},
   "source": [
    "### Function 2"
   ]
  },
  {
   "cell_type": "code",
   "execution_count": 13,
   "metadata": {
    "collapsed": true
   },
   "outputs": [],
   "source": [
    "# Extract data from all result element\n",
    "def get_item_by_xpath(all_res_elem,xpath):\n",
    "    result = []\n",
    "    for elm in all_res_elem[:-1]:\n",
    "        if elm.text != ' ':\n",
    "            item = elm.find_element_by_xpath(xpath).text\n",
    "            result.append(item)\n",
    "    return(result)\n",
    "\n",
    "def get_item_by_xpath2(all_res_elem,xpath):\n",
    "    result = []\n",
    "    for elm in all_res_elem[:-1]:\n",
    "        if elm.text != ' ':\n",
    "            try:\n",
    "                item = elm.find_element_by_xpath(xpath).text\n",
    "                result.append(item)\n",
    "            except NoSuchElementException:\n",
    "                try:\n",
    "                    item = elm.find_element_by_xpath('div/'+xpath).text\n",
    "                    result.append(item)\n",
    "                except NoSuchElementException:\n",
    "                    try:\n",
    "                        item = elm.find_element_by_xpath('div/div/'+xpath).text\n",
    "                        result.append(item)\n",
    "                    except NoSuchElementException:\n",
    "                        try:\n",
    "                            item = elm.find_element_by_xpath('div/div/div/'+xpath).text\n",
    "                            result.append(item)\n",
    "                        except NoSuchElementException:\n",
    "                            result.append('not available')\n",
    "                \n",
    "    return(result)"
   ]
  },
  {
   "cell_type": "markdown",
   "metadata": {},
   "source": [
    "## Data Acquisition"
   ]
  },
  {
   "cell_type": "code",
   "execution_count": 14,
   "metadata": {
    "collapsed": true
   },
   "outputs": [],
   "source": [
    "# Data\n",
    "# Airline list\n",
    "airline_xpath = 'div[1]/div/div/div[1]/div/div[1]'\n",
    "airline_list = get_item_by_xpath(all_elem,airline_xpath)\n",
    "#airline_list\n",
    "# Price list\n",
    "price_xpath = 'div[1]/div/div/div[3]/div[2]/div/div/div[1]/div[2]'\n",
    "price_list = get_item_by_xpath(all_elem,price_xpath)\n",
    "price_list\n",
    "# Number of seats left list\n",
    "no_seat_left_xpath = 'div[1]/div/div/div[3]/div[2]/div/div/div[1]/div[1]/label'\n",
    "no_seats_left_list = get_item_by_xpath(all_elem,no_seat_left_xpath)\n",
    "no_seats_left_list\n",
    "# Time of Travel list\n",
    "time_traveld_xpath = 'div/div/div/div[1]/div/div[2]/div[2]/div[2]/div/div[2]/span'\n",
    "time_traveld_list = get_item_by_xpath2(all_elem,time_traveld_xpath)\n",
    "#time_traveld_list\n",
    "# arrival\n",
    "arr_time_xpath = 'div[1]/div/div/div[1]/div/div[2]/div[2]/div[2]/div/div[3]/div/div/div'\n",
    "arr_time_list = get_item_by_xpath2(all_elem,arr_time_xpath)\n",
    "#arr_time_list\n",
    "# Destination info\n",
    "to_loc_xpath = 'div[1]/div/div/div[1]/div/div[2]/div[2]/div[2]/div/div[3]/div/div/span[1]'\n",
    "to_loc_list = get_item_by_xpath2(all_elem,to_loc_xpath)\n",
    "#to_loc_list\n",
    "# depture_time\n",
    "dep_time_xpath = 'div[1]/div/div/div[1]/div/div[2]/div[2]/div[2]/div/div[1]/div/div/div'\n",
    "dep_time_list = get_item_by_xpath2(all_elem,dep_time_xpath)\n",
    "#dep_time_list\n",
    "# from\n",
    "from_xpath = 'div[1]/div/div/div[1]/div/div[2]/div[2]/div[2]/div/div[1]/div/div/span[1]'\n",
    "from_list = get_item_by_xpath2(all_elem,from_xpath)\n",
    "#from_list\n",
    "# Number of stops\n",
    "num_stops_xpath = 'div[1]/div/div/div[1]/div/div[2]/div[2]/div[2]/div/div[2]/div'\n",
    "num_stops_list = get_item_by_xpath2(all_elem,num_stops_xpath)\n",
    "#num_stops_list\n",
    "\n",
    "## Querry Ends"
   ]
  },
  {
   "cell_type": "markdown",
   "metadata": {},
   "source": [
    "## Data Processing and Structuring"
   ]
  },
  {
   "cell_type": "code",
   "execution_count": 16,
   "metadata": {
    "collapsed": true
   },
   "outputs": [],
   "source": [
    "# Processes Price\n",
    "price1_list = []\n",
    "price2_list = []\n",
    "play = price_list\n",
    "\n",
    "for p in play:\n",
    "    a = p.split('\\n')\n",
    "    price1_list.append(a[0])\n",
    "    if len(a)>1:\n",
    "        price2_list.append(a[1])\n",
    "    else:\n",
    "        price2_list.append(\"\")"
   ]
  },
  {
   "cell_type": "code",
   "execution_count": 17,
   "metadata": {
    "collapsed": true
   },
   "outputs": [],
   "source": [
    "# Structuring the data\n",
    "col_name =['Airline','From','Dep_time','To','Arr_time','Num_stops','No_seats','Price1','Price2']\n",
    "structured_dict = {'Airline':airline_list,'From':from_list,\n",
    "                   'Dep_time':dep_time_list,'To':to_loc_list,\n",
    "                   'Arr_time':arr_time_list,'Num_stops':num_stops_list,\n",
    "                   'Num_seats':no_seats_left_list,'Price1':price1_list,'Price2':price2_list}\n",
    "#pd.DataFrame(price_list)"
   ]
  },
  {
   "cell_type": "code",
   "execution_count": 18,
   "metadata": {
    "collapsed": true
   },
   "outputs": [],
   "source": [
    "str_data = pd.DataFrame(structured_dict)"
   ]
  },
  {
   "cell_type": "code",
   "execution_count": 19,
   "metadata": {},
   "outputs": [
    {
     "data": {
      "text/html": [
       "<div>\n",
       "<style>\n",
       "    .dataframe thead tr:only-child th {\n",
       "        text-align: right;\n",
       "    }\n",
       "\n",
       "    .dataframe thead th {\n",
       "        text-align: left;\n",
       "    }\n",
       "\n",
       "    .dataframe tbody tr th {\n",
       "        vertical-align: top;\n",
       "    }\n",
       "</style>\n",
       "<table border=\"1\" class=\"dataframe\">\n",
       "  <thead>\n",
       "    <tr style=\"text-align: right;\">\n",
       "      <th></th>\n",
       "      <th>Airline</th>\n",
       "      <th>Arr_time</th>\n",
       "      <th>Dep_time</th>\n",
       "      <th>From</th>\n",
       "      <th>Num_seats</th>\n",
       "      <th>Num_stops</th>\n",
       "      <th>Price1</th>\n",
       "      <th>Price2</th>\n",
       "      <th>To</th>\n",
       "    </tr>\n",
       "  </thead>\n",
       "  <tbody>\n",
       "    <tr>\n",
       "      <th>0</th>\n",
       "      <td>Ethiopian Airlines</td>\n",
       "      <td>6:35am</td>\n",
       "      <td>11:10am</td>\n",
       "      <td>LOS</td>\n",
       "      <td>4 seat(s) left</td>\n",
       "      <td>2 Stop(s)</td>\n",
       "      <td>318,653.00 NGN</td>\n",
       "      <td>307,060.64 NGN</td>\n",
       "      <td>LHR</td>\n",
       "    </tr>\n",
       "    <tr>\n",
       "      <th>1</th>\n",
       "      <td>Qatar Airways</td>\n",
       "      <td>6:20am</td>\n",
       "      <td>12:00pm</td>\n",
       "      <td>LOS</td>\n",
       "      <td>5 seat(s) left</td>\n",
       "      <td>1 Stop  DOH</td>\n",
       "      <td>328,106.00 NGN</td>\n",
       "      <td>321,218.73 NGN</td>\n",
       "      <td>LHR</td>\n",
       "    </tr>\n",
       "    <tr>\n",
       "      <th>2</th>\n",
       "      <td>Etihad Airways</td>\n",
       "      <td>12:05pm</td>\n",
       "      <td>9:40am</td>\n",
       "      <td>LOS</td>\n",
       "      <td>7 seat(s) left</td>\n",
       "      <td>1 Stop  AUH</td>\n",
       "      <td>323,107.00 NGN</td>\n",
       "      <td></td>\n",
       "      <td>LHR</td>\n",
       "    </tr>\n",
       "    <tr>\n",
       "      <th>3</th>\n",
       "      <td>Emirates</td>\n",
       "      <td>11:40am</td>\n",
       "      <td>6:50pm</td>\n",
       "      <td>LOS</td>\n",
       "      <td>9 seat(s) left</td>\n",
       "      <td>1 Stop  DXB</td>\n",
       "      <td>365,722.00 NGN</td>\n",
       "      <td>355,215.98 NGN</td>\n",
       "      <td>LGW</td>\n",
       "    </tr>\n",
       "    <tr>\n",
       "      <th>4</th>\n",
       "      <td>Egyptair</td>\n",
       "      <td>12:35pm</td>\n",
       "      <td>2:25pm</td>\n",
       "      <td>LOS</td>\n",
       "      <td>6 seat(s) left</td>\n",
       "      <td>1 Stop  CAI</td>\n",
       "      <td>375,134.00 NGN</td>\n",
       "      <td></td>\n",
       "      <td>LHR</td>\n",
       "    </tr>\n",
       "    <tr>\n",
       "      <th>5</th>\n",
       "      <td>Turkish Airlines</td>\n",
       "      <td>4:15pm</td>\n",
       "      <td>10:40pm</td>\n",
       "      <td>LOS</td>\n",
       "      <td>9 seat(s) left</td>\n",
       "      <td>1 Stop  IST</td>\n",
       "      <td>403,148.00 NGN</td>\n",
       "      <td>385,929.75 NGN</td>\n",
       "      <td>LHR</td>\n",
       "    </tr>\n",
       "    <tr>\n",
       "      <th>6</th>\n",
       "      <td>Lufthansa</td>\n",
       "      <td>8:40am</td>\n",
       "      <td>11:50pm</td>\n",
       "      <td>LOS</td>\n",
       "      <td>1 seat left</td>\n",
       "      <td>1 Stop  FRA</td>\n",
       "      <td>405,702.00 NGN</td>\n",
       "      <td></td>\n",
       "      <td>LHR</td>\n",
       "    </tr>\n",
       "    <tr>\n",
       "      <th>7</th>\n",
       "      <td>Royal Air Maroc</td>\n",
       "      <td>not available</td>\n",
       "      <td>not available</td>\n",
       "      <td>not available</td>\n",
       "      <td>9 seat(s) left</td>\n",
       "      <td>not available</td>\n",
       "      <td>409,546.00 NGN</td>\n",
       "      <td></td>\n",
       "      <td>not available</td>\n",
       "    </tr>\n",
       "    <tr>\n",
       "      <th>8</th>\n",
       "      <td>British Airways</td>\n",
       "      <td>4:55am</td>\n",
       "      <td>11:25pm</td>\n",
       "      <td>LOS</td>\n",
       "      <td>1 seat left</td>\n",
       "      <td>Direct</td>\n",
       "      <td>629,893.00 NGN</td>\n",
       "      <td></td>\n",
       "      <td>LHR</td>\n",
       "    </tr>\n",
       "    <tr>\n",
       "      <th>9</th>\n",
       "      <td>Virgin Atlantic</td>\n",
       "      <td>not available</td>\n",
       "      <td>not available</td>\n",
       "      <td>not available</td>\n",
       "      <td>2 seat(s) left</td>\n",
       "      <td>not available</td>\n",
       "      <td>1,062,674.00 NGN</td>\n",
       "      <td></td>\n",
       "      <td>not available</td>\n",
       "    </tr>\n",
       "  </tbody>\n",
       "</table>\n",
       "</div>"
      ],
      "text/plain": [
       "              Airline       Arr_time       Dep_time           From  \\\n",
       "0  Ethiopian Airlines         6:35am        11:10am            LOS   \n",
       "1       Qatar Airways         6:20am        12:00pm            LOS   \n",
       "2      Etihad Airways        12:05pm         9:40am            LOS   \n",
       "3            Emirates        11:40am         6:50pm            LOS   \n",
       "4            Egyptair        12:35pm         2:25pm            LOS   \n",
       "5    Turkish Airlines         4:15pm        10:40pm            LOS   \n",
       "6           Lufthansa         8:40am        11:50pm            LOS   \n",
       "7     Royal Air Maroc  not available  not available  not available   \n",
       "8     British Airways         4:55am        11:25pm            LOS   \n",
       "9     Virgin Atlantic  not available  not available  not available   \n",
       "\n",
       "        Num_seats      Num_stops            Price1          Price2  \\\n",
       "0  4 seat(s) left      2 Stop(s)    318,653.00 NGN  307,060.64 NGN   \n",
       "1  5 seat(s) left    1 Stop  DOH    328,106.00 NGN  321,218.73 NGN   \n",
       "2  7 seat(s) left    1 Stop  AUH    323,107.00 NGN                   \n",
       "3  9 seat(s) left    1 Stop  DXB    365,722.00 NGN  355,215.98 NGN   \n",
       "4  6 seat(s) left    1 Stop  CAI    375,134.00 NGN                   \n",
       "5  9 seat(s) left    1 Stop  IST    403,148.00 NGN  385,929.75 NGN   \n",
       "6     1 seat left    1 Stop  FRA    405,702.00 NGN                   \n",
       "7  9 seat(s) left  not available    409,546.00 NGN                   \n",
       "8     1 seat left         Direct    629,893.00 NGN                   \n",
       "9  2 seat(s) left  not available  1,062,674.00 NGN                   \n",
       "\n",
       "              To  \n",
       "0            LHR  \n",
       "1            LHR  \n",
       "2            LHR  \n",
       "3            LGW  \n",
       "4            LHR  \n",
       "5            LHR  \n",
       "6            LHR  \n",
       "7  not available  \n",
       "8            LHR  \n",
       "9  not available  "
      ]
     },
     "execution_count": 19,
     "metadata": {},
     "output_type": "execute_result"
    }
   ],
   "source": [
    "str_data"
   ]
  },
  {
   "cell_type": "code",
   "execution_count": 20,
   "metadata": {
    "collapsed": true
   },
   "outputs": [],
   "source": [
    "str_data.to_csv('fligthRec.csv',header=True,index=False,columns=col_name)"
   ]
  },
  {
   "cell_type": "code",
   "execution_count": 21,
   "metadata": {
    "collapsed": true
   },
   "outputs": [],
   "source": [
    "browser.close()"
   ]
  },
  {
   "cell_type": "code",
   "execution_count": null,
   "metadata": {
    "collapsed": true
   },
   "outputs": [],
   "source": [
    "\n",
    "\n",
    "\n"
   ]
  }
 ],
 "metadata": {
  "kernelspec": {
   "display_name": "Python 3",
   "language": "python",
   "name": "python3"
  },
  "language_info": {
   "codemirror_mode": {
    "name": "ipython",
    "version": 3
   },
   "file_extension": ".py",
   "mimetype": "text/x-python",
   "name": "python",
   "nbconvert_exporter": "python",
   "pygments_lexer": "ipython3",
   "version": "3.6.1"
  }
 },
 "nbformat": 4,
 "nbformat_minor": 2
}
